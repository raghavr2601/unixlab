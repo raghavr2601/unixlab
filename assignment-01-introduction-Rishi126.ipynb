{
 "cells": [
  {
   "cell_type": "markdown",
   "metadata": {
    "ein.tags": "worksheet-0",
    "slideshow": {
     "slide_type": "-"
    }
   },
   "source": [
    "# Simple commands\n",
    "1. Log into your system. What are the user id (username) and password?\n",
    "2. Launch a terminal. Identify the prompt. What is it?\n",
    "3. Launch a terminal, maximize the window. Define a profile with the\n",
    "color built-in scheme \\`\\`Black on light yellow''. Set your new\n",
    "profile as the default profile.\n",
    "4. Try these commands:"
   ]
  },
  {
   "cell_type": "markdown",
   "metadata": {
    "ein.tags": "worksheet-0",
    "slideshow": {
     "slide_type": "-"
    }
   },
   "source": [
    "## `echo`\n",
    "- `echo string`\n",
    "- `echo *`\n",
    "- `echo`"
   ]
  },
  {
   "cell_type": "code",
   "execution_count": 1,
   "metadata": {
    "autoscroll": false,
    "ein.hycell": false,
    "ein.tags": "worksheet-0",
    "slideshow": {
     "slide_type": "-"
    }
   },
   "outputs": [
    {
     "name": "stdout",
     "output_type": "stream",
     "text": [
      "string\n",
      "a7-e1-f1 assignment-01-introduction.ipynb Desktop Documents Downloads examples.desktop Music new.txt Pictures poem.txt Public Templates Untitled1.ipynb Untitled.ipynb Videos\n",
      "\n"
     ]
    }
   ],
   "source": [
    "echo string\n",
    "echo *\n",
    "echo"
   ]
  },
  {
   "cell_type": "markdown",
   "metadata": {
    "ein.tags": "worksheet-0",
    "slideshow": {
     "slide_type": "-"
    }
   },
   "source": [
    "## `date`\n",
    "-   Print date in dd-mm-yyyy format. Refer to the `man` page for\n",
    "    `date` to find out the option for this format.\n",
    "    ``` {.example}\n",
    "    man date\n",
    "    ```\n",
    "-   Print time in hh-mm-ss format, hh is 0-24 hours.\n",
    "\n"
   ]
  },
  {
   "cell_type": "code",
   "execution_count": 3,
   "metadata": {},
   "outputs": [
    {
     "name": "stdout",
     "output_type": "stream",
     "text": [
      "03-09-19\n",
      "19-35-51\n"
     ]
    }
   ],
   "source": [
    "date +\"%d-%m-%y\"\n",
    "date +\"%H-%M-%S\""
   ]
  },
  {
   "cell_type": "markdown",
   "metadata": {
    "ein.tags": "worksheet-0",
    "slideshow": {
     "slide_type": "-"
    }
   },
   "source": [
    "## `cal`\n",
    "-   Print the calendar for the current month.\n",
    "-   Print the calendar for year 2020.\n",
    "-   Print the calendar for July 2020."
   ]
  },
  {
   "cell_type": "code",
   "execution_count": 4,
   "metadata": {},
   "outputs": [
    {
     "name": "stdout",
     "output_type": "stream",
     "text": [
      "   September 2019     \n",
      "Su Mo Tu We Th Fr Sa  \n",
      " 1  2 \u001b[7m 3\u001b[27m  4  5  6  7  \n",
      " 8  9 10 11 12 13 14  \n",
      "15 16 17 18 19 20 21  \n",
      "22 23 24 25 26 27 28  \n",
      "29 30                 \n",
      "                      \n",
      "                            2020\n",
      "      January               February               March          \n",
      "Su Mo Tu We Th Fr Sa  Su Mo Tu We Th Fr Sa  Su Mo Tu We Th Fr Sa  \n",
      "          1  2  3  4                     1   1  2  3  4  5  6  7  \n",
      " 5  6  7  8  9 10 11   2  3  4  5  6  7  8   8  9 10 11 12 13 14  \n",
      "12 13 14 15 16 17 18   9 10 11 12 13 14 15  15 16 17 18 19 20 21  \n",
      "19 20 21 22 23 24 25  16 17 18 19 20 21 22  22 23 24 25 26 27 28  \n",
      "26 27 28 29 30 31     23 24 25 26 27 28 29  29 30 31              \n",
      "                                                                  \n",
      "\n",
      "       April                  May                   June          \n",
      "Su Mo Tu We Th Fr Sa  Su Mo Tu We Th Fr Sa  Su Mo Tu We Th Fr Sa  \n",
      "          1  2  3  4                  1  2      1  2  3  4  5  6  \n",
      " 5  6  7  8  9 10 11   3  4  5  6  7  8  9   7  8  9 10 11 12 13  \n",
      "12 13 14 15 16 17 18  10 11 12 13 14 15 16  14 15 16 17 18 19 20  \n",
      "19 20 21 22 23 24 25  17 18 19 20 21 22 23  21 22 23 24 25 26 27  \n",
      "26 27 28 29 30        24 25 26 27 28 29 30  28 29 30              \n",
      "                      31                                          \n",
      "\n",
      "        July                 August              September        \n",
      "Su Mo Tu We Th Fr Sa  Su Mo Tu We Th Fr Sa  Su Mo Tu We Th Fr Sa  \n",
      "          1  2  3  4                     1         1  2  3  4  5  \n",
      " 5  6  7  8  9 10 11   2  3  4  5  6  7  8   6  7  8  9 10 11 12  \n",
      "12 13 14 15 16 17 18   9 10 11 12 13 14 15  13 14 15 16 17 18 19  \n",
      "19 20 21 22 23 24 25  16 17 18 19 20 21 22  20 21 22 23 24 25 26  \n",
      "26 27 28 29 30 31     23 24 25 26 27 28 29  27 28 29 30           \n",
      "                      30 31                                       \n",
      "\n",
      "      October               November              December        \n",
      "Su Mo Tu We Th Fr Sa  Su Mo Tu We Th Fr Sa  Su Mo Tu We Th Fr Sa  \n",
      "             1  2  3   1  2  3  4  5  6  7         1  2  3  4  5  \n",
      " 4  5  6  7  8  9 10   8  9 10 11 12 13 14   6  7  8  9 10 11 12  \n",
      "11 12 13 14 15 16 17  15 16 17 18 19 20 21  13 14 15 16 17 18 19  \n",
      "18 19 20 21 22 23 24  22 23 24 25 26 27 28  20 21 22 23 24 25 26  \n",
      "25 26 27 28 29 30 31  29 30                 27 28 29 30 31        \n",
      "                                                                  \n",
      "     July 2020        \n",
      "Su Mo Tu We Th Fr Sa  \n",
      "          1  2  3  4  \n",
      " 5  6  7  8  9 10 11  \n",
      "12 13 14 15 16 17 18  \n",
      "19 20 21 22 23 24 25  \n",
      "26 27 28 29 30 31     \n",
      "                      \n"
     ]
    }
   ],
   "source": [
    "cal\n",
    "cal 2020\n",
    "cal july 2020"
   ]
  },
  {
   "cell_type": "markdown",
   "metadata": {
    "ein.tags": "worksheet-0",
    "slideshow": {
     "slide_type": "-"
    }
   },
   "source": [
    "## `who`, `whoami`"
   ]
  },
  {
   "cell_type": "code",
   "execution_count": 5,
   "metadata": {},
   "outputs": [
    {
     "name": "stdout",
     "output_type": "stream",
     "text": [
      "unix     :0           2019-09-03 18:38 (:0)\n",
      "unix\n"
     ]
    }
   ],
   "source": [
    "who\n",
    "whoami"
   ]
  },
  {
   "cell_type": "markdown",
   "metadata": {
    "ein.tags": "worksheet-0",
    "slideshow": {
     "slide_type": "-"
    }
   },
   "source": [
    "## `uname`\n",
    "   - options `-a`, `-s`, `-r`, `-sr`"
   ]
  },
  {
   "cell_type": "code",
   "execution_count": 6,
   "metadata": {},
   "outputs": [
    {
     "name": "stdout",
     "output_type": "stream",
     "text": [
      "Linux ssn-HP-280-G4-MT-Business-PC 4.15.0-51-generic #55-Ubuntu SMP Wed May 15 14:27:21 UTC 2019 x86_64 x86_64 x86_64 GNU/Linux\n",
      "Linux\n",
      "4.15.0-51-generic\n",
      "Linux 4.15.0-51-generic\n"
     ]
    }
   ],
   "source": [
    "uname -a\n",
    "uname -s\n",
    "uname -r\n",
    "uname -sr"
   ]
  },
  {
   "cell_type": "markdown",
   "metadata": {
    "ein.tags": "worksheet-0",
    "slideshow": {
     "slide_type": "-"
    }
   },
   "source": [
    "## `df -h`\n",
    "-   How many partitions does your hard disk have? What is the\n",
    "    total size of the disk?"
   ]
  },
  {
   "cell_type": "code",
   "execution_count": 7,
   "metadata": {},
   "outputs": [
    {
     "name": "stdout",
     "output_type": "stream",
     "text": [
      "Filesystem      Size  Used Avail Use% Mounted on\n",
      "udev            3.8G     0  3.8G   0% /dev\n",
      "tmpfs           782M  2.0M  780M   1% /run\n",
      "/dev/sda9       131G  9.6G  114G   8% /\n",
      "tmpfs           3.9G  193M  3.7G   5% /dev/shm\n",
      "tmpfs           5.0M  4.0K  5.0M   1% /run/lock\n",
      "tmpfs           3.9G     0  3.9G   0% /sys/fs/cgroup\n",
      "/dev/loop0       35M   35M     0 100% /snap/gtk-common-themes/1122\n",
      "/dev/loop13     2.3M  2.3M     0 100% /snap/gnome-calculator/260\n",
      "/dev/loop11     3.8M  3.8M     0 100% /snap/gnome-system-monitor/57\n",
      "/dev/loop1       13M   13M     0 100% /snap/gnome-characters/103\n",
      "/dev/loop2       91M   91M     0 100% /snap/core/6405\n",
      "/dev/loop3       15M   15M     0 100% /snap/gnome-logs/45\n",
      "/dev/loop7      2.4M  2.4M     0 100% /snap/gnome-calculator/180\n",
      "/dev/loop5      3.8M  3.8M     0 100% /snap/gnome-system-monitor/51\n",
      "/dev/loop8       87M   87M     0 100% /snap/core/4917\n",
      "/dev/loop9      141M  141M     0 100% /snap/gnome-3-26-1604/78\n",
      "/dev/loop10     141M  141M     0 100% /snap/gnome-3-26-1604/70\n",
      "/dev/loop12      13M   13M     0 100% /snap/gnome-characters/139\n",
      "/dev/loop6       15M   15M     0 100% /snap/gnome-logs/37\n",
      "/dev/loop4       35M   35M     0 100% /snap/gtk-common-themes/319\n",
      "/dev/sda7       1.9G  148M  1.6G   9% /boot\n",
      "/dev/sda2        96M   30M   67M  31% /boot/efi\n",
      "tmpfs           782M   16K  782M   1% /run/user/121\n",
      "tmpfs           782M   92K  782M   1% /run/user/1001\n"
     ]
    }
   ],
   "source": [
    "df -h"
   ]
  },
  {
   "cell_type": "markdown",
   "metadata": {
    "ein.tags": "worksheet-0",
    "slideshow": {
     "slide_type": "-"
    }
   },
   "source": [
    "## `history`"
   ]
  },
  {
   "cell_type": "code",
   "execution_count": 8,
   "metadata": {},
   "outputs": [
    {
     "name": "stdout",
     "output_type": "stream",
     "text": [
      "    1  echo string\n",
      "    2  echo *\n",
      "    3  echo\n",
      "    4  man date\n",
      "    5  date -d\n",
      "    6  man date\n",
      "    7  date\n",
      "    8  cal curr\n",
      "    9  cal -c\n",
      "   10  cal 6 2019\n",
      "   11  cal 2020\n",
      "   12  cal 7 2020\n",
      "   13  who\n",
      "   14  whoami\n",
      "   15  uname -a\n",
      "   16  uname 0s\n",
      "   17  uname -s\n",
      "   18  uname -r\n",
      "   19  uname -sr\n",
      "   20  df -h\n",
      "   21  history\n",
      "   22  clear\n",
      "   23  cat > poem.txt\n",
      "   24  cat < poem.txt\n",
      "   25  touch poem.txt\n",
      "   26  touch newpoem.txt\n",
      "   27  size\n",
      "   28  size newpoem.txt\n",
      "   29  df -h\n",
      "   30  clear\n",
      "   31  lr\n",
      "   32  ls\n",
      "   33  ls -r\n",
      "   34  touch another-poem.txt\n",
      "   35  ls\n",
      "   36  ls -t\n",
      "   37  ls -tr\n",
      "   38  pwd\n",
      "   39  cd\n",
      "   40  mkdir myname\n",
      "   41  cd myname\n",
      "   42  mkdir junk\n",
      "   43  mkdir recipes\n",
      "   44  cd recipes\n",
      "   45  mkdir cookie\n",
      "   46  mkdir pie\n",
      "   47  cd cookie\n",
      "   48  mkdir choco.chip\n",
      "   49  cd\n",
      "   50  cd /myname/recipes\n",
      "   51  cd /myname/recipes/\n",
      "   52  cd myname/recipes/\n",
      "   53  cd pie\n",
      "   54  mkdir apple\n",
      "   55  mkdir crust\n",
      "   56  cd\n",
      "   57  cd myhome\n",
      "   58  cd myname\n",
      "   59  cd recipes/pie/apple/\n",
      "   60  touch dish1.txt\n",
      "   61  cd ..\n",
      "   62  rmdir apple\n",
      "   63  cd apple\n",
      "   64  rm dish1.txt\n",
      "   65  cd ..\n",
      "   66  rmdir apple\n",
      "   67  cd crust\n",
      "   68  touch dish1.txt\n",
      "   69  cpy dish1.txt dish2.txt\n",
      "   70  copy dish1.txt dis2.txt\n",
      "   71  cpy dish1.txt\n",
      "   72  cp dish1.txt dish2.txt\n",
      "   73  tree\n",
      "   74  lr\n",
      "   75  ls\n",
      "   76  cp * ~/myname/recipes/pie/apple\n",
      "   77  cp * ~/myname/recipes/pie/apple/\n",
      "   78  cp * myname/recipes/pie/apple\n",
      "   79  cd\n",
      "   80  cp myname/recipes/pie/crust myname/recipes/crust/apple\n",
      "   81  cp myname/recipes/pie/crust/ myname/recipes/crust/apple\n",
      "   82  cp -r  myname/recipes/pie/crust myname/recipes/crust/apple\n",
      "   83  tree\n",
      "   84  tr\n",
      "   85  tre\n",
      "   86  tree\n",
      "   87  snap install tree\n",
      "   88  cp  myname/recipes/pie/crust/ myname/recipes/crust/apple -r\n",
      "   89  cp myname/recipes/pie/crust/ myname/recipes/crust/apple -r\n",
      "   90  cp myname/recipes/pie/crust myname/recipes/crust/apple -r\n",
      "   91  cp myname/recipes/pie/crust/ myname/recipes/crust/apple/ -r\n",
      "   92  cd myname/recipes/crust\n",
      "   93  cd myname/recipes/crust/\n",
      "   94  cd myname\n",
      "   95  cd recipes\n",
      "   96  cd crust\n",
      "   97  cd pie\n",
      "   98  ls\n",
      "   99  mkdir apple\n",
      "  100  cd\n",
      "  101  cp myname/recipes/pie/crust/ myname/recipes/pie/crust/apple -r\n",
      "  102  cp myname/recipes/pie/crust myname/recipes/pie/crust/apple -r\n",
      "  103  cp myname/recipes/pie/crust/dish1.txt myname/recipes/pie/crust/apple \n",
      "  104  cp myname/recipes/pie/crust/dish2.txt myname/recipes/pie/crust/apple \n",
      "  105  cd myname/recipes/pie/crust\n",
      "  106  rename dish1.txt cookie.txt\n",
      "  107  rname dish1.txt cookie.txt\n",
      "  108  mv dish1.txt cookie.txt\n",
      "  109  mv dish2.txt cookie2.txt\n",
      "  110  mv cookie.txt cookie1.txt\n",
      "  111  mv cookie.txt ~/myname/recipes/cookie/\n",
      "  112  mv cookie1.txt ~/myname/recipes/cookie/\n",
      "  113  mv cookie2.txt ~/myname/recipes/cookie/\n",
      "  114  cd\n",
      "  115  cd myname\n",
      "  116  mv recipes junk\n",
      "  117  cd junk\n",
      "  118  cd recipes\n",
      "  119  cd pie\n",
      "  120  cd apple\n",
      "  121  rm dish1.txt\n",
      "  122  ls\n",
      "  123  touch dish2.txt\n",
      "  124  ls\n",
      "  125  cd ..\n",
      "  126  cd cookie\n",
      "  127  rm cookie1.txt\n",
      "  128  rm cookie2.txt\n",
      "  129  cd ..\n",
      "  130  rmdir recipes\n",
      "  131  cd ..\n",
      "  132  ln\n",
      "  133  ln junk\n",
      "  134  clear\n",
      "  135  cd\n",
      "  136  clear\n",
      "  137  mkdir letters\n",
      "  138  mkdir reports\n",
      "  139  mkdir assignment\n",
      "  140  cd letters\n",
      "  141  mkdir friendly\n",
      "  142  mkdir formal\n",
      "  143  cd\n",
      "  144  cd letters\n",
      "  145  cd ~/reports\n",
      "  146  mkdir personal business school\n",
      "  147  ls\n",
      "  148  cd\n",
      "  149  cd assignments\n",
      "  150  cd assignment\n",
      "  151  mkdir UNIX\n",
      "  152  rmdir UNIX\n",
      "  153  cd\n",
      "  154  cd reports\n",
      "  155  mkdir ~/assignment/UNIX\n",
      "  156  cd\n",
      "  157  tree\n",
      "  158  ls\n",
      "  159  ls -rt\n",
      "  160  cd assignment\n",
      "  161  ls -r\n",
      "  162  cd\n",
      "  163  cd reports\n",
      "  164  ls \n",
      "  165  cd\n",
      "  166  cd letters\n",
      "  167  ls\n",
      "  168  exiy\n",
      "  169  exit\n",
      "  170  cd UNIX\n",
      "  171  cd assignment\n",
      "  172  cd \n",
      "  173  cd assignment\n",
      "  174  cd UNIX\n",
      "  175  vi hw4.txt\n",
      "  176  rm hw4.txt\n",
      "  177  vi hw4\n",
      "  178  cat hw4\n",
      "  179  vi hw4\n",
      "  180  cat hw4\n",
      "  181  tree\n",
      "  182  snap install tree\n",
      "  183  apt install tree\n",
      "  184  sudo apt install tree\n",
      "  185  tree\n",
      "  186  history\n",
      "  187  pwd\n",
      "  188  cd assignmnet\n",
      "  189  cd assignment\n",
      "  190  cd UNIX\n",
      "  191  pwd\n",
      "  192  vi --help\n",
      "  193  vi --hw4\n",
      "  194  vi hw4\n",
      "  195  vim -h\n",
      "  196  vi hw\n",
      "  197  history\n",
      "  198  vi hw4.txt\n",
      "  199  cat hw4.txt\n",
      "  200  cd\n",
      "  201  cat<assignment/UNIX/hw4.txt\n",
      "  202  cp assignment/UNIX/hw4.txt assignment/UNIX/hw4.bk\n",
      "  203  ls -r\n",
      "  204  cd UNIX\n",
      "  205  cd unix\n",
      "  206  pwd\n",
      "  207  cd\n",
      "  208  vi hw4\n",
      "  209  cd hw4\n",
      "  210  echo *\n",
      "  211  man date\n",
      "  212  date\n",
      "  213  date %f\n",
      "  214  man date\n",
      "  215  man -d\n",
      "  216  man help\n",
      "  217  man -help\n",
      "  218  clear\n",
      "  219  date +%x_%H:%M:%S:%N\n",
      "  220  date %H:%M:%S\n",
      "  221  date +%x_%H:%M:%S\n",
      "  222  time\n",
      "  223  man time\n",
      "  224  man -f\n",
      "  225  man -r\n",
      "  226  date +%x\n",
      "  227  date +%\n",
      "  228  date +(  -  -    )\n",
      "  229  date +%(  /  /    )\n",
      "  230  date +%\"d-m-y\"\n",
      "  231  date +%\"d-mm-yy\"\n",
      "  232  date +\"%d-%m-%y\"\n",
      "  233  time +\"%h-%m-%s\"\n",
      "  234  date +%24X\n",
      "  235  date +%24\n",
      "  236  date +%X24\n",
      "  237  date +24%X\n",
      "  238  date +%24X\n",
      "  239  date +%X\n",
      "  240  date +%X_\n",
      "  241  cal\n",
      "  242  cal 2020\n",
      "  243  who\n",
      "  244  whoami\n",
      "  245  uname -a\n",
      "  246  uname -s\n",
      "  247  uname -r\n",
      "  248  uname -sr\n",
      "  249  df -h\n",
      "  250  clear\n",
      "  251  cat>poem.txt\n",
      "  252  cat poem.txt\n",
      "  253  touch poem.txt\n",
      "  254  touch poem\n",
      "  255  cat newpoem.txt\n",
      "  256  cat> newpoem.txt\n",
      "  257  cat newpoem.txt\n",
      "  258  size newpoem.txt\n",
      "  259  print size newpoem.txt\n",
      "  260  man size\n",
      "  261  size @newpoem.txt\n",
      "  262  size -newpoem\n",
      "  263  ls -l\n",
      "  264  touch anotherpoem.txt\n",
      "  265  pwd\n",
      "  266  cd\n",
      "  267  pwd\n",
      "  268  cd /\n",
      "  269  cd ..\n",
      "  270  pwd\n",
      "  271  cd home\n",
      "  272  ..\n",
      "  273  pwd\n",
      "  274  cd unix\n",
      "  275  cd .\n",
      "  276  pwd\n",
      "  277  cd /home\n",
      "  278  pwd\n",
      "  279  mkdir myname\n",
      "  280  cd\n",
      "  281  mkdir myname\n",
      "  282  cd myname\n",
      "  283  mkdir junk recipes\n",
      "  284  cd recipes\n",
      "  285  mkdir cookie pie\n",
      "  286  cd\n",
      "  287  cd myname\n",
      "  288  cd cookie\n",
      "  289  cd recipes\n",
      "  290  cd cookie\n",
      "  291  mkdir choco.chip\n",
      "  292  cd ..\n",
      "  293  cd pie\n",
      "  294  mkdir apple crust\n",
      "  295  cd ..\n",
      "  296  tree\n",
      "  297  touch /recipes/pie/apple/dish1\n",
      "  298  cd /recipes/pie/apple/dish1\n",
      "  299  cd recipes/pie/apple/dish1\n",
      "  300  cd recipes/pie/apple/\n",
      "  301  touch dish1\n",
      "  302  cd ..\n",
      "  303  cd apple\n",
      "  304  rm dish1\n",
      "  305  cd ..\n",
      "  306  rmdir apple\n",
      "  307  cd crust\n",
      "  308  touch dish1\n",
      "  309  cp dish1 dish2\n",
      "  310  ls\n",
      "  311  cd ..\n",
      "  312  cp crust apple\n",
      "  313  cp crust apple -r\n",
      "  314  cd apple\n",
      "  315  mv dish1 cookie1\n",
      "  316  mv dish2 cookie2\n",
      "  317  mv cookie1 /myname/recipes/cookie\n",
      "  318  mv cookie1 myname/recipes/cookie\n",
      "  319  mv cookie1 home/unix/myname/recipes/cookie\n",
      "  320  mv cookie1 /home/unix/myname/recipes/cookie/\n",
      "  321  mv cookie2 /home/unix/myname/recipes/cookie/\n",
      "  322  cd ..\n",
      "  323  mv recipes junk\n",
      "  324  rm junk/recipes/pie/apple/dish1\n",
      "  325  tree\n",
      "  326  rmdir recipes -f\n",
      "  327  rmdir recipes f\n",
      "  328  cd junk\n",
      "  329  rmdir recipes -f\n",
      "  330  rmdir recipes f\n",
      "  331  ls\n",
      "  332  rmdir f recipes\n",
      "  333  rmdir recipes\n",
      "  334  man rmdir\n",
      "  335  rmdir recipes -ignore-fail-on-non-empty\n",
      "  336  man rmdir\n",
      "  337  rmdir recipes --ignore-fail-on-non-empty\n",
      "  338  ls\n",
      "  339  cd recipes\n",
      "  340  ls\n",
      "  341  rmdir recipes -f\n",
      "  342  rmdir recipes force\n",
      "  343  rm -f recipes\n",
      "  344  ls\n",
      "  345  cd ..\n",
      "  346  rm -f recipes\n",
      "  347  recipes -rf recipes\n",
      "  348  rm -rf recipes\n",
      "  349  ls\n",
      "  350  cd\n",
      "  351  mkdir letters\n",
      "  352  mkdir reports\n",
      "  353  mkdir assignment\n",
      "  354  cd letters\n",
      "  355  mkdir friendly formal\n",
      "  356  cd /home/unix/reports\n",
      "  357  mkdir personal business school\n",
      "  358  mkdir /home/unix/assignment/UNIX\n",
      "  359  cd\n",
      "  360  ls -r\n",
      "  361  exit\n",
      "  362  groups\n",
      "  363  ls -l\n",
      "  364  umask -help\n",
      "  365  man umask\n",
      "  366  umask 700\n",
      "  367  groups\n",
      "  368  ls -l\n",
      "  369  mkdir chapter4\n",
      "  370  ls -l\n",
      "  371  mkdir chapter4/session1\n",
      "  372  mkdir chapter4/session1/\n",
      "  373  mkdir chapter4\\session1\n",
      "  374  tree\n",
      "  375  cd mkdir\n",
      "  376  cd chapter4\n",
      "  377  ls -l\n",
      "  378  rmdir chapter4\n",
      "  379  mkdir chapter4\n",
      "  380  pwd\n",
      "  381  pwd ./home/unix/chapter4/session1\n",
      "  382  touch t.txt\n",
      "  383  cat > t.txt\n",
      "  384  umask 700\n",
      "  385  cat > t.txt\n",
      "  386  ls -l\n",
      "  387  rmdir chapter4session1\n",
      "  388  ls -l\n",
      "  389  umask 700\n",
      "  390  mkdir a\n",
      "  391  mkdir chapter4/session1\n",
      "  392  umask 777\n",
      "  393  mkdir chapter4/session1\n",
      "  394  umask 000\n",
      "  395  mkdir chapter4/session1\n",
      "  396  sudo mkdir chapter4/session1\n",
      "  397  ls -\n",
      "  398  tree\n",
      "  399  sudo cd chapter4\n",
      "  400  umask 000\n",
      "  401  tree\n",
      "  402  ls -l\n",
      "  403  chmod u=rwx chapter4\n"
     ]
    },
    {
     "name": "stdout",
     "output_type": "stream",
     "text": [
      "  404  ls -l\n",
      "  405  cd chapter4\n",
      "  406  ls -l\n",
      "  407  cd\n",
      "  408  chmod 700 chapter4\n",
      "  409  ls -l\n",
      "  410  rmdir chapter4\n",
      "  411  rmdir -f chapter4\n",
      "  412  cd chapter4\n",
      "  413  rmdir session1\n",
      "  414  cd\n",
      "  415  rmdir chapter4\n",
      "  416  rmdir a\n",
      "  417  umask 700\n",
      "  418  mkdir chapter4\n",
      "  419  ls -l\n",
      "  420  umask 077\n",
      "  421  ls -l\n",
      "  422  rmdir chapter4\n",
      "  423  mkdir chapter4\n",
      "  424  ls -l\n",
      "  425  rmdir chapter4\n",
      "  426  pwd\n",
      "  427  cd ..\n",
      "  428  umask 700\n",
      "  429  mkdir /home/chapter4\n",
      "  430  ls -l\n",
      "  431  mkdir chapter4\n",
      "  432  tree\n",
      "  433  clear\n",
      "  434  umask 700\n",
      "  435  cd \n",
      "  436  mkdir chapter4\n",
      "  437  ls -l\n",
      "  438  cd ..\n",
      "  439  mkdir ../chapter4/session1\n",
      "  440  mkdir chapter4/session1\n",
      "  441  mkdir./ chapter4/session1\n",
      "  442  mkdir ./chapter4/session1\n",
      "  443  mkdir /chapter4/session1\n",
      "  444  ls -l\n",
      "  445  cd ..\n",
      "  446  ls -l\n",
      "  447  cd\n",
      "  448  ls -l\n",
      "  449  cd ..\n",
      "  450  cd unix/chapter4/session1\n",
      "  451  mkdir unix/chapter4/session1\n",
      "  452  sudo mkdir unix/chapter4/session1\n",
      "  453  cd\n",
      "  454  ls -l\n",
      "  455  cd chapter4\n",
      "  456  tree\n",
      "  457  sudo cd chapter4\n",
      "  458  chmod 700 chapter4\n",
      "  459  cd chapter4\n",
      "  460  ls -l\n",
      "  461  cd session1\n",
      "  462  touch hw41\n",
      "  463  chmod 700\n",
      "  464  cd ..\n",
      "  465  chmod 700 session1\n",
      "  466  cd\n",
      "  467  ls -l\n",
      "  468  cd chapter4\n",
      "  469  ls -l\n",
      "  470  sudo rmdir session1\n",
      "  471  ls -l\n",
      "  472  cd\n",
      "  473  whoami\n",
      "  474  mkdir chapter4/session1\n",
      "  475  cd chapter4\n",
      "  476  ls -l\n",
      "  477  cd session1\n",
      "  478  chmod 700 session1\n",
      "  479  ls -l\n",
      "  480  cd\n",
      "  481  rmdir chapter4\n",
      "  482  sudo rmdir chapter4\n",
      "  483  cd chapter4\n",
      "  484  rmdir session1\n",
      "  485  cd\n",
      "  486  sudo rmdir chapter4\n",
      "  487  umask 700\n",
      "  488  mkdir chapter4\n",
      "  489  ls -l\n",
      "  490  sudo rmdir chapter4\n",
      "  491  umask 007\n",
      "  492  ls -l\n",
      "  493  mkdir chapter4\n",
      "  494  ls -l\n",
      "  495  rmdir chapter4\n",
      "  496  umask 077\n",
      "  497  mkdir chapter4\n",
      "  498  ls -l\n",
      "  499  mkdir chapter4/session1\n",
      "  500  cd session1\n",
      "  501  cd chapter4\n",
      "  502  cd session1\n",
      "  503  touch hw41\n",
      "  504  ls -l\n",
      "  505  groups \n",
      "  506  chmod g=r hw41\n",
      "  507  ls -l\n",
      "  508  exit\n",
      "  509  gh\n",
      "  510  hgh\n",
      "  511  end\n",
      "  512  exit\n",
      "  513  mask\n",
      "  514  umask\n",
      "  515  mkdir garbage\n",
      "  516  ls -l\n",
      "  517  mask 664\n",
      "  518  cd ..\n",
      "  519  cd\n",
      "  520  groups\n",
      "  521  cd ..\n",
      "  522  cd sudo\n",
      "  523  chuser sudo\n",
      "  524  su sudo\n",
      "  525  cd\n",
      "  526  su sudo\n",
      "  527  cd ..\n",
      "  528  su unix\n",
      "  529  su sudo\n",
      "  530  cu hh\n",
      "  531  cd\n",
      "  532  umask 664\n",
      "  533  umask\n",
      "  534  ls -l\n",
      "  535  umask 113\n",
      "  536  ls -l\n",
      "  537  rmdir garbage\n",
      "  538  mkdir chapter4/session2\n",
      "  539  ls -l\n",
      "  540  chmod u-x chapter4\n",
      "  541  mkdir chapter4/session2\n",
      "  542  cd chapter4/session2\n",
      "  543  cd chapter4\n",
      "  544  ls -l\n",
      "  545  chmod u+x chapter4\n",
      "  546  cd chapter4/session2\n",
      "  547  chmod u-x chapter4\n",
      "  548  umask 013\n",
      "  549  cd chapter4/session2\n",
      "  550  cd chapter4\n",
      "  551  chmod 013 chapter4\n",
      "  552  cd chapter4\n",
      "  553  chmod 764 chapter4\n",
      "  554  cd chapter4\n",
      "  555  cd session\n",
      "  556  cd session2\n",
      "  557  ls -l\n",
      "  558  chmod u+x\n",
      "  559  chmod u+x session2\n",
      "  560  cd session2\n",
      "  561  touch hw42\n",
      "  562  ls -l\n",
      "  563  chmod 666 hw42\n",
      "  564  ls -l\n",
      "  565  root\n",
      "  566  script n\n",
      "  567  history\n",
      "  568  end\n",
      "  569  exit\n",
      "  570  who | file1\n",
      "  571  who | file1.txt\n",
      "  572  who > file1\n",
      "  573  more file1\n",
      "  574  date; who > file2\n",
      "  575  more file2\n",
      "  576  (date; who) > file3\n",
      "  577  more file3\n",
      "  578  (date > file4); who\n",
      "  579  more file4\n",
      "  580  cp file3 file3.bak\n",
      "  581  (bate; who) > file3\n",
      "  582  more file3\n",
      "  583  more file3.bak\n",
      "  584  (bate; who) 2>> file3\n",
      "  585  more file3\n",
      "  586  (bate; who) > file4; (bate; who) 2> file5;\n",
      "  587  quit\n",
      "  588  exit\n",
      "  589  echo $0\n",
      "  590  dash\n",
      "  591  exit\n",
      "  592  shell\n",
      "  593  batch\n",
      "  594  $shell\n",
      "  595  $0\n",
      "  596  echo $0\n",
      "  597  clear\n",
      "  598  /etc/passwd\n",
      "  599  echo $SHELL\n",
      "  600  cat /etc/shells\n",
      "  601  /bin/sh\n",
      "  602  cat /bin/ksh\n",
      "  603  cat < /bin/ksh\n",
      "  604  cat > /bin/ksh\n",
      "  605  sudo cat > /bin/ksh\n",
      "  606  /bin/sh\n",
      "  607  man bash\n",
      "  608  echo $BASH_SUBSHELL\n",
      "  609  echo $KSH_SUBSHELL\n",
      "  610  sh\n",
      "  611  echo $0\n",
      "  612  script\n",
      "  613  script shell.txt\n",
      "  614  echo $0\n",
      "  615  sh\n",
      "  616  end script\n",
      "  617  ls\n",
      "  618  cat shell.txt\n",
      "  619  echo $0\n",
      "  620  dash\n",
      "  621  sh\n",
      "  622  $SHELL\n",
      "  623  /etc/passwd\n",
      "  624  /etc/shell\n",
      "  625  $0\n",
      "  626  bash\n",
      "  627  /etc/SHELLS\n",
      "  628  /etc/shells\n",
      "  629  sh\n",
      "  630  bash\n",
      "  631  sh\n",
      "  632  first=PARENT\n",
      "  633  $first\n",
      "  634  first=$(echo PARENT)\n",
      "  635  echo $first\n",
      "  636  bash\n",
      "  637  cat Ch6S1F1\n",
      "  638  cat > Ch6S1F1\n",
      "  639  cat Ch6S1F1\n",
      "  640  sort Ch6S1F1\n",
      "  641  sort -f1 Ch6S1F1\n",
      "  642  sort -k1 Ch6S1F1\n",
      "  643  cat Ch6S1F1\n",
      "  644  sort -k1 Ch6S1F1 | cat > Ch6S1F1\n",
      "  645  cat Ch6S1F1\n",
      "  646  cat > Ch6S1F1\n",
      "  647  sort -k1 Ch6S1F1 | cat > Ch6S1F1\n",
      "  648  cat > Ch6S1F1\n",
      "  649  cat Ch6S1F1\n",
      "  650  cat > Ch6S1F1\n",
      "  651  cat Ch6S1F1\n",
      "  652  sort -k1 Ch6S1F1 | cat > Ch6S1F1\n",
      "  653  cat Ch6S1F1\n",
      "  654  cat > Ch6S1F1\n",
      "  655  sort -k1 Ch6S1F1 > Ch6S1F1\n",
      "  656  cat Ch6S1F1\n",
      "  657  cat > Ch6S1F1\n",
      "  658  cat Ch6S1F1\n",
      "  659  cat > Ch6S1F1\n",
      "  660  cat Ch6S1F1\n",
      "  661  sort -o -k1 Ch6S1F1 Ch6S1F1\n",
      "  662  cat Ch6S1F1\n",
      "  663  sort -k1 Ch6S1F1 > a\n",
      "  664  cat a\n",
      "  665  mv a Ch6S1F1\n",
      "  666  cat Ch6S1F1\n",
      "  667  cat -A Ch6S1F1\n",
      "  668  cut -f1,3 Ch6S1F1 > cat\n",
      "  669  cut -f2 Ch6S1F1 | paste cat -> result\n",
      "  670  cat result\n",
      "  671  mv result Ch6S1F1\n",
      "  672  cat Ch6S1F1\n",
      "  673  exit\n",
      "  674  tail Ch6S2F1\n",
      "  675  tail\n",
      "  676  tail > AFS2F1<<EOF\n",
      "  677  PASSES ALL DATA FROM INPUT TO OUTPUT\n",
      "  678  PASSES ONLY SPECIFIED COLUMNS\n",
      "  679  PASSES NUMBER OF SPECIFIED LINES AT BEGINNING\n",
      "  680  COMBINES COLUMNS\n",
      "  681  ARRANGES DATA IN SEQUENCE\n",
      "  682  PASSES NUMBER OF SPECIFIED LINES AT THE END OF DATA\n",
      "  683  TRANSLATES ONE OR MORE CHARACTERS\n",
      "  684  DELETES DUPLICATE LINES\n",
      "  685  COUNTS CHARACTERS, WORDS, OR LINES\n",
      "  686  ABCDEFGHIJKLMNOPQRSTUVWXYZ\n",
      "  687  EOF\n",
      "  688  cat AFS2F1\n",
      "  689  mv AFS2F1 Ch6S2F1\n",
      "  690  cat Ch6S2F1\n",
      "  691  tail -r Ch6S2F1\n",
      "  692  tac Ch6S2F1\n",
      "  693  tac Ch6S2F1 > Ch6S2F1\n",
      "  694  cat Ch6S2F1\n",
      "  695  cat > Ch6S2F1\n",
      "  696  tac Ch6S2F1\n",
      "  697  tail > Ch6S2F1\n",
      "  698  tac Ch6S2F1 > Ch6S2F1Encr\n",
      "  699  cat Ch6S2F1Encr\n",
      "  700  tac Ch6SF1Encr > Ch6S2F1\n",
      "  701  tac Ch6S2F1Encr > Ch6S2F1\n",
      "  702  cat Ch6S2F1\n",
      "  703  exit\n",
      "  704  echo $first\n",
      "  705  echo $second\n",
      "  706  echo $SHELL\n",
      "  707  /bin/bash/bash\n",
      "  708  cat /bin/bash/bash\n",
      "  709  clear\n",
      "  710  script\n",
      "  711  script ex2\n",
      "  712  cat > Ch6S3F1\n",
      "  713  cat Ch6S3F1\n",
      "  714  tr '[A-Za-z]' '[F-ZA-E]' Ch6S3F1\n",
      "  715  cat Ch6S3F1 |tr '[A-Za-z]' '[F-ZA-E]' > Ch6S3F1Encr\n",
      "  716  cat Ch6S3F1Encr\n",
      "  717  cat Ch6S3F1Encr |tr '[F-E]' '[A-Za-z]' > Ch6S3F1\n",
      "  718  cat Ch6S3F1Encr |tr '[F-Ef-e]' '[A-Za-z]' > Ch6S3F1\n",
      "  719  cat Ch6S3F1Encr |tr '[A-Za-z]' '[F-ZA-E]' > Ch6S3F1\n",
      "  720  cat Ch6S3F1\n",
      "  721  cat Ch6S3F1Encr |tr '[F-ZA-E]' '[A-Za-z]' > Ch6S3F1\n",
      "  722  cat Ch6S3F1\n",
      "  723  exit\n",
      "  724  first=\"PARENT\"\n",
      "  725  echo $first\n",
      "  726  bash\n",
      "  727  ./etc/passwd\n",
      "  728  ./bin/sh\n",
      "  729  ./bin/\n",
      "  730  ./bin\n",
      "  731  cat etc/shells\n",
      "  732  cat ./etc/shells\n",
      "  733  cat /etc/shells\n",
      "  734  /bin/bash\n",
      "  735  sh\n",
      "  736  /bin/sh\n",
      "  737  $0\n",
      "  738  $SHELL\n",
      "  739  cat > a6-e1-f1\n",
      "  740  cat a6-e1-f1 \n",
      "  741  grep -f4 a6-e1-f1 \n",
      "  742  grep -d4 a6-e1-f1 \n",
      "  743  man grep\n",
      "  744  grep \"Anna\" a6-e1-f1 \n",
      "  745  grep \"Anna\" -f4 a6-e1-f1 \n",
      "  746  grep \"Anna\" -d4 a6-e1-f1 \n",
      "  747  grep \"Anna\" -c4 a6-e1-f1 \n",
      "  748  grep \"Anna\" a6-e1-f1 | cut -c4\n",
      "  749  grep \"Anna\" a6-e1-f1 | cut -d4\n",
      "  750  grep \"Anna\" a6-e1-f1 | cut -f4\n",
      "  751  grep \"1451\" a6-e1-f1 | cut -f2\n",
      "  752  grep '[3-9][0-9]' a6-e1-f1\n",
      "  753  grep '[3-9][0-9]' a6-e1-f1 | cut -f2\n",
      "  754  grep -f3 '[3-9][0-9]' a6-e1-f1 | cut -f2\n",
      "  755  grep -f3 '\\[3-9][0-9]\\' a6-e1-f1 | cut -f2\n",
      "  756  grep '\\[3-9][0-9]\\' a6-e1-f1 | cut -f2\n",
      "  757  grep '[3-9][0-9]\\.' a6-e1-f1 | cut -f2\n",
      "  758  grep '[3-9][0-9]\\.' a6-e1-f1\n",
      "  759  grep '[3-9][0-9].' a6-e1-f1\n",
      "  760  grep '.[3-9][0-9].' a6-e1-f1\n",
      "  761  grep '*\\[3-9][0-9].' a6-e1-f1\n",
      "  762  cut -f23 a6-e1-f1 | grep '[3-9][0-9]' | cut -f1\n",
      "  763  cut -f23 a6-e1-f1 | grep '[3-9][0-9]'\n",
      "  764  cut -f23 a6-e1-f1 \n",
      "  765  cut -f23 a6-e1-f1\n",
      "  766  cat a6-e1-f1 \n",
      "  767  cut -f2 a6-e1-f1\n",
      "  768  cut -f2 -f3 a6-e1-f1\n",
      "  769  cut -f2,3 a6-e1-f1\n",
      "  770  cut -f2,3 a6-e1-f1 | grep '[3-9][0-9]' | cut -f1\n",
      "  771  cut -f2,4 a6-e1-f1 | grep '[3-9][0-9]\\*' | cut -f1\n",
      "  772  cut -f2,4 a6-e1-f1 | grep '[3-9][0-9]*' | cut -f1\n",
      "  773  cut -f2,4 a6-e1-f1 | grep '[3-9][0-9]*\\' | cut -f1\n",
      "  774  cut -f2,4 a6-e1-f1 | grep '[3-9][0-9]*\\.' | cut -f1\n",
      "  775  cut -f2,4 a6-e1-f1 | grep '^[3-9][0-9]*\\.' | cut -f1\n",
      "  776  cut -f2,4 a6-e1-f1 | grep '[3-9][0-9]*.' | cut -f1\n"
     ]
    },
    {
     "name": "stdout",
     "output_type": "stream",
     "text": [
      "  777  cut -f2,4 a6-e1-f1 | grep '[3-9][0-9].*' | cut -f1\n",
      "  778  cut -f2,4 a6-e1-f1 | grep '[3-9][0-9].\\*' | cut -f1\n",
      "  779  cut -f2,4 a6-e1-f1 | grep '[2-9][0-9].\\*' | cut -f1\n",
      "  780  cut -f2,4 a6-e1-f1 | grep '[2-9][0-9].*' | cut -f1\n",
      "  781  cut -f2,4 a6-e1-f1 | grep '[2-9][0-9].' | cut -f1\n",
      "  782  cut -f2,4 a6-e1-f1 | grep -e '[3-9][0-9].' -e '[2][1-9]' \n",
      "  783  cut -f2,4 a6-e1-f1 | grep -e '[3-9][0-9].' -e '[2][1-9].' \n",
      "  784  cut -f2,3 a6-e1-f1 | grep -e '[3-9][0-9]' -e '[2][1-9]' \n",
      "  785  cut -f2,4 a6-e1-f1 | grep -e '[3-9][0-9].' -e '[2][1-9].' \n",
      "  786  cut -f2,3,4 a6-e1-f1 | grep -e '[3-9][0-9].' -e '[2][1-9].' | cut -f2,3\n",
      "  787  cut -f2,3,4 a6-e1-f1 | grep -e '[3-9][0-9].' -e '[2][1-9].' | cut -f1,3\n",
      "  788  cut -f2,3,4 a6-e1-f1 | grep -e '[3-9][0-9].' -e '[2][1-9].' \n",
      "  789  cut -f1,3,4 a6-e1-f1 | grep -e '[3-9][0-9].' -e '[2][1-9].' \n",
      "  790  cut -f1,3,4 a6-e1-f1 | grep -e '*[3-9][0-9].' -e '*[2][1-9].' \n",
      "  791  cut -f1,3,4 a6-e1-f1 | grep -e '*\\[3-9][0-9].' -e '*\\[2][1-9].' \n",
      "  792  cut -f1,3,4 a6-e1-f1 | grep -e '^*[3-9][0-9].' -e '^*[2][1-9].' \n",
      "  793  cut -f1,3,4 a6-e1-f1 | grep -e '[^*][3-9][0-9].' -e '[^*][2][1-9].' \n",
      "  794  cut -f1,3,4 a6-e1-f1 | grep -ev '[^*][3-9][0-9].' -ev '[^*][2][1-9].' \n",
      "  795  cut -f1,3,4 a6-e1-f1 | grep -e -v '[^*][3-9][0-9].' -e -v '[^*][2][1-9].' \n",
      "  796  cut -f1,3,4 a6-e1-f1 | grep -e '[3-9][0-9].' -e '[2][1-9].' \n",
      "  797  cut -f1,3,4 a6-e1-f1 | grep -e '[3-9][0-9].*' -e '[2][1-9].*' \n",
      "  798  cut -f1,3,4 a6-e1-f1 | grep -e '\\[3-9][0-9].*' -e '\\[2][1-9].*' \n",
      "  799  cut -f1,3,4 a6-e1-f1 | grep -e '\\[3-9][0-9].' -e '\\[2][1-9].' \n",
      "  800  cut -f1,3,4 a6-e1-f1 | grep -e '^[3-9][0-9].' -e '^[2][1-9].' \n",
      "  801  cut -f1,3,4 a6-e1-f1 | grep -e '[3-9][0-9]\\.' -e '[2][1-9]\\.' \n",
      "  802  cut -f1,3,4 a6-e1-f1 | grep -e '[3-9][0-9]\\.' -e '[2][1-9]\\.' | cut -f1,2\n",
      "  803  cut -f1,2,3,4 a6-e1-f1 | grep '[0-9]' \n",
      "  804  cut -f1,2,3,4 a6-e1-f1 | grep '\\*[0-9]\\*' \n",
      "  805  cut -f1,2,3,4 a6-e1-f1 | grep '[0-9]\\*' \n",
      "  806  cut -f1,2,3,4 a6-e1-f1 | grep '[0-9]*' \n",
      "  807  cut -f1,2,3,4 a6-e1-f1 | grep '\\t[0-9]\\t' \n",
      "  808  cut -f1,2,3,4 a6-e1-f1 | grep '.[0-9]' \n",
      "  809  cut -f1,2,3,4 a6-e1-f1 | grep \n",
      "  810  cut -f1,2,3,4 a6-e1-f1 | grep '\\t[0-9]\\t' \n",
      "  811  cut -f3 a6-e1-f1 | grep '[0-9]' \n",
      "  812  cut -f3 a6-e1-f1 | grep '\\t[0-9]\\t' \n",
      "  813  cat a6-e1-f1 \n",
      "  814  cut -f3 a6-e1-f1 | grep '[0-9][^*]' \n",
      "  815  cut -f3 a6-e1-f1 | grep '[^*][0-9][^*]' \n",
      "  816  cut -f3 a6-e1-f1 | grep '.\\[0-9][^*]' \n",
      "  817  cut -f3 a6-e1-f1 | grep '[0-9]' \n",
      "  818  cut -f3 a6-e1-f1 | grep '[0-9][^0-9]' \n",
      "  819  cut -f3 a6-e1-f1 | grep '[0-9]^[0-9]' \n",
      "  820  cut -f3 a6-e1-f1 | grep '[0-9].[0-9]' \n",
      "  821  cut -f3 a6-e1-f1 | grep '[0-9]$' \n",
      "  822  cut -f3 a6-e1-f1 | grep '$[0-9][0-9]' \n",
      "  823  cut -f3 a6-e1-f1 | grep '^[0-9][0-9]' \n",
      "  824  cut -f3 a6-e1-f1 | grep '[^0-9][0-9]' \n",
      "  825  cut -f3 a6-e1-f1 | grep '^[0-9][0-9]' \n",
      "  826  cut -f3 a6-e1-f1 | grep -v '^[0-9][0-9]' \n",
      "  827  cut -f3 a6-e1-f1 | grep -v '^[1-9][0-9]' \n",
      "  828  cut -f1,2,3,4 a6-e1-f1 | grep -v '[0-9][0-9]' \n",
      "  829  grep '\n",
      "  830  cut -f1,2,3,4 a6-e1-f1 | grep '\\<[0-9][0-9]\\>' \n",
      "  831  cut -f1,2,3,4 a6-e1-f1 | grep '\\<[0-9]\\>' \n",
      "  832  cat a7-e1-f1\n",
      "  833  cat > a7-e1-f1\n",
      "  834  cat a7-e1-f1\n",
      "  835  gedit a7-e1-f1 \n",
      "  836  cat a7-e1-f1\n",
      "  837  cat a6-e1-f1 \n",
      "  838  cat a7-e1-f1 \n",
      "  839  sed -E 's/(.*) (.*) (.*)/\\2, \\1 \\3/'\n",
      "  840  sed -E 's/(.*) (.*) (.*)/\\2, \\1 \\3/' a7-e1-f1 \n",
      "  841  cut -f1,2 -d\": \" a7-e1-f1 \n",
      "  842  cut -f1,2 -d\",\" a7-e1-f1 \n",
      "  843  sed -E 's/(.*) (.*) (.*)/\\2, \\1 \\3/' a7-e1-f1 > a7-e1-f1 \n",
      "  844  cut -f1,2 -d\",\" a7-e1-f1 \n",
      "  845  cat a7-e1-f1 \n",
      "  846  sed -E 's/(.*) (.*) (.*)/\\2, \\1 \\3/' a7-e1-f1 > a7-e1-f1 \n",
      "  847  sed -E 's/(.*) (.*) (.*)/\\2, \\1 \\3/' a7-e1-f1 > tmp\n",
      "  848  cat tmp\n",
      "  849  history\n",
      "  850  pip install bash_kernel/\n",
      "  851  pip install bash_kernel\n",
      "  852  cd bash_kernel/\n",
      "  853  pip install.py\n",
      "  854  python install.pu\n",
      "  855  python install.py\n",
      "  856  python __main__.py \n",
      "  857  cd ..\n",
      "  858  PS1='[PEXP\\[\\]ECT_PROMPT>' PS2='[PEXP\\[\\]ECT_PROMPT+' PROMPT_COMMAND=''\n",
      "  859  export PAGER=cat\n",
      "  860  display () {     TMPFILE=$(mktemp ${TMPDIR-/tmp}/bash_kernel.XXXXXXXXXX);     cat > $TMPFILE;     echo \"bash_kernel: saved image data to: $TMPFILE\" >&2; }\n",
      "  861  ls\n",
      "  862  echo $?\n",
      "  863  echo \"hi\"\n",
      "  864  echo $?\n",
      "  865  touch file1.txt\n",
      "  866  echo $?\n",
      "  867  compgen -cdfa fi\n",
      "  868  compgen -cdfa fil\n",
      "  869  compgen -cdfa file\n",
      "  870  compgen -cdfa file1\n",
      "  871  cat file1.txt\n",
      "  872  echo $?\n",
      "  873  compgen -cdfa fi\n",
      "  874  compgen -cdfa fii\n",
      "  875  cat > file.txt\n",
      "  876  PS1='[PEXP\\[\\]ECT_PROMPT>' PS2='[PEXP\\[\\]ECT_PROMPT+' PROMPT_COMMAND=''\n",
      "  877  export PAGER=cat\n",
      "  878  display () {     TMPFILE=$(mktemp ${TMPDIR-/tmp}/bash_kernel.XXXXXXXXXX);     cat > $TMPFILE;     echo \"bash_kernel: saved image data to: $TMPFILE\" >&2; }\n",
      "  879  cat > poem.txt\n",
      "  880  pip install bash_kernel\n",
      "  881  python -m bash_kernel.install\n",
      "  882  jupyter notebook\n",
      "  883  jupyter notebook\n",
      "  884  sudo apt install jupyter-notebook \n",
      "  885  jupyter notebook\n",
      "  886  sudo apt install jupyter-core\n",
      "  887  jupyter notebook\n",
      "  888  sudo apt install jupyter-lab\n",
      "  889  sudo apt install jupyterlab\n",
      "  890  sudo apt install jupyter\n",
      "  891  sudo apt-get update\n",
      "  892  sudo apt install jupyter-notebook \n",
      "  893  jupyter notebook\n",
      "  894  pip install bash_kernel\n",
      "  895  jupyter console --kernel bash\n",
      "  896  jupyter qtconsole --kernel bash\n",
      "  897  jupyter console --kernel bash\n",
      "  898  jupyter notebook\n",
      "  899  PS1='[PEXP\\[\\]ECT_PROMPT>' PS2='[PEXP\\[\\]ECT_PROMPT+' PROMPT_COMMAND=''\n",
      "  900  export PAGER=cat\n",
      "  901  display () {     TMPFILE=$(mktemp ${TMPDIR-/tmp}/bash_kernel.XXXXXXXXXX);     cat > $TMPFILE;     echo \"bash_kernel: saved image data to: $TMPFILE\" >&2; }\n",
      "  902  echo hi\n",
      "  903  echo $?\n",
      "  904  ls\n",
      "  905  echo $?\n",
      "  906  cat > new.txt\n",
      "  907  PS1='[PEXP\\[\\]ECT_PROMPT>' PS2='[PEXP\\[\\]ECT_PROMPT+' PROMPT_COMMAND=''\n",
      "  908  export PAGER=cat\n",
      "  909  display () {     TMPFILE=$(mktemp ${TMPDIR-/tmp}/bash_kernel.XXXXXXXXXX);     cat > $TMPFILE;     echo \"bash_kernel: saved image data to: $TMPFILE\" >&2; }\n",
      "  910  touch new.txt\n",
      "  911  echo $?\n",
      "  912  ls\n",
      "  913  echo $?\n",
      "  914  gedit new.txt\n",
      "  915  echo $?\n",
      "  916  cat new.txt\n",
      "  917  echo $?\n",
      "  918  vi new.txt\n",
      "  919  PS1='[PEXP\\[\\]ECT_PROMPT>' PS2='[PEXP\\[\\]ECT_PROMPT+' PROMPT_COMMAND=''\n",
      "  920  export PAGER=cat\n",
      "  921  display () {     TMPFILE=$(mktemp ${TMPDIR-/tmp}/bash_kernel.XXXXXXXXXX);     cat > $TMPFILE;     echo \"bash_kernel: saved image data to: $TMPFILE\" >&2; }\n",
      "  922  echo string\n",
      "  923  echo *\n",
      "  924  echo\n",
      "  925  echo $?\n",
      "  926  date; who > file2 +\"%d-%m-%y\"\n",
      "  927  date; who > file2 +\"%d-%m-%y\" +\"%H-%M-%S\"\n",
      "  928  echo $?\n",
      "  929  date +\"%d-%m-%y\"\n",
      "  930  date +\"%H-%M-%S\"\n",
      "  931  echo $?\n",
      "  932  cal\n",
      "  933  cal 2020\n",
      "  934  cal july 2020\n",
      "  935  echo $?\n",
      "  936  who\n",
      "  937  whoami\n",
      "  938  echo $?\n",
      "  939  uname -a\n",
      "  940  uname -s\n",
      "  941  uname -r\n",
      "  942  uname -sr\n",
      "  943  echo $?\n",
      "  944  df -h\n",
      "  945  echo $?\n",
      "  946  history\n"
     ]
    }
   ],
   "source": [
    "history"
   ]
  },
  {
   "cell_type": "markdown",
   "metadata": {
    "ein.tags": "worksheet-0",
    "slideshow": {
     "slide_type": "-"
    }
   },
   "source": [
    "## `clear`\n"
   ]
  },
  {
   "cell_type": "code",
   "execution_count": 9,
   "metadata": {},
   "outputs": [
    {
     "name": "stdout",
     "output_type": "stream",
     "text": [
      "\u001b[3J\u001b[H\u001b[2J"
     ]
    }
   ],
   "source": [
    "clear"
   ]
  },
  {
   "cell_type": "markdown",
   "metadata": {
    "ein.tags": "worksheet-0",
    "slideshow": {
     "slide_type": "-"
    }
   },
   "source": [
    "# Files\n",
    "## `cat`\n",
    "-   Create a file `poem.txt` with\n",
    "    ``` {.example}\n",
    "    cat > poem.txt\n",
    "    ```\n",
    "    and typing the lines on the `stdin` (standard input).\n",
    "-   Print (display) the contents of `poem.txt` on `stdout`\n",
    "    (standard output)\n",
    "\n"
   ]
  },
  {
   "cell_type": "code",
   "execution_count": 10,
   "metadata": {},
   "outputs": [],
   "source": [
    "gedit poem.txt"
   ]
  },
  {
   "cell_type": "code",
   "execution_count": 11,
   "metadata": {},
   "outputs": [
    {
     "name": "stdout",
     "output_type": "stream",
     "text": [
      "This is the file poem.txt\n"
     ]
    }
   ],
   "source": [
    "cat poem.txt"
   ]
  },
  {
   "cell_type": "markdown",
   "metadata": {
    "ein.tags": "worksheet-0",
    "slideshow": {
     "slide_type": "-"
    }
   },
   "source": [
    "##  `touch`\n",
    "-   `touch poem` to update the time stamp of `poem.txt`\n",
    "-   Create a new empty file with `touch newpoem.txt`. Check the size\n",
    "    of `newpoem.txt`.\n",
    "-   Create `another-poem.txt`."
   ]
  },
  {
   "cell_type": "code",
   "execution_count": 12,
   "metadata": {},
   "outputs": [],
   "source": [
    "touch poem.txt"
   ]
  },
  {
   "cell_type": "code",
   "execution_count": 13,
   "metadata": {},
   "outputs": [],
   "source": [
    "touch newpoem.txt"
   ]
  },
  {
   "cell_type": "code",
   "execution_count": 15,
   "metadata": {},
   "outputs": [
    {
     "name": "stdout",
     "output_type": "stream",
     "text": [
      "0 0 0 newpoem.txt\n"
     ]
    }
   ],
   "source": [
    "wc newpoem.txt"
   ]
  },
  {
   "cell_type": "code",
   "execution_count": 16,
   "metadata": {},
   "outputs": [],
   "source": [
    "touch another-poem.txt"
   ]
  },
  {
   "cell_type": "markdown",
   "metadata": {
    "ein.tags": "worksheet-0",
    "slideshow": {
     "slide_type": "-"
    }
   },
   "source": [
    "## `ls`\n",
    "-   List the contents of your home directory.\n",
    "-   List the contents of your home directory.\n",
    "    -   long format\n",
    "    -   modified time order\n",
    "    -   reverse modified time order\n",
    "\n"
   ]
  },
  {
   "cell_type": "code",
   "execution_count": 17,
   "metadata": {},
   "outputs": [
    {
     "name": "stdout",
     "output_type": "stream",
     "text": [
      "a7-e1-f1                          \u001b[0m\u001b[01;34mDownloads\u001b[0m         new.txt    Untitled1.ipynb\n",
      "another-poem.txt                  examples.desktop  \u001b[01;34mPictures\u001b[0m   Untitled.ipynb\n",
      "assignment-01-introduction.ipynb  file2             poem.txt   \u001b[01;34mVideos\u001b[0m\n",
      "\u001b[01;34mDesktop\u001b[0m                           \u001b[01;34mMusic\u001b[0m             \u001b[01;34mPublic\u001b[0m\n",
      "\u001b[01;34mDocuments\u001b[0m                         newpoem.txt       \u001b[01;34mTemplates\u001b[0m\n"
     ]
    }
   ],
   "source": [
    "ls"
   ]
  },
  {
   "cell_type": "code",
   "execution_count": 18,
   "metadata": {},
   "outputs": [
    {
     "name": "stdout",
     "output_type": "stream",
     "text": [
      "total 112\n",
      "-rw-r--r-- 1 unix unix     0 Sep  3 19:32 a7-e1-f1\n",
      "-rw-r--r-- 1 unix unix     0 Sep  3 19:39 another-poem.txt\n",
      "-rw-rw-r-- 1 unix unix 50060 Sep  3 19:37 assignment-01-introduction.ipynb\n",
      "drwxr-xr-x 2 unix unix  4096 Jul  2 18:37 \u001b[0m\u001b[01;34mDesktop\u001b[0m\n",
      "drwxr-xr-x 3 unix unix  4096 Sep  3 19:24 \u001b[01;34mDocuments\u001b[0m\n",
      "drwxr-xr-x 4 unix unix  4096 Sep  3 18:59 \u001b[01;34mDownloads\u001b[0m\n",
      "-rw-r--r-- 1 unix unix  8980 Jul  1 16:04 examples.desktop\n",
      "-rw-r--r-- 1 unix unix     0 Sep  3 19:35 file2\n",
      "drwxr-xr-x 2 unix unix  4096 Jul  2 18:37 \u001b[01;34mMusic\u001b[0m\n",
      "-rw-r--r-- 1 unix unix     0 Sep  3 19:38 newpoem.txt\n",
      "-rw-r--r-- 1 unix unix     6 Sep  3 19:28 new.txt\n",
      "drwxr-xr-x 2 unix unix  4096 Jul  2 18:37 \u001b[01;34mPictures\u001b[0m\n",
      "-rw-r--r-- 1 unix unix    26 Sep  3 19:37 poem.txt\n",
      "drwxr-xr-x 2 unix unix  4096 Jul  2 18:37 \u001b[01;34mPublic\u001b[0m\n",
      "drwxr-xr-x 2 unix unix  4096 Jul  2 18:37 \u001b[01;34mTemplates\u001b[0m\n",
      "-rw-r--r-- 1 unix unix  2588 Sep  3 19:37 Untitled1.ipynb\n",
      "-rw-r--r-- 1 unix unix   968 Sep  3 19:21 Untitled.ipynb\n",
      "drwxr-xr-x 2 unix unix  4096 Jul  2 18:37 \u001b[01;34mVideos\u001b[0m\n"
     ]
    }
   ],
   "source": [
    "ls -l"
   ]
  },
  {
   "cell_type": "code",
   "execution_count": 19,
   "metadata": {},
   "outputs": [
    {
     "name": "stdout",
     "output_type": "stream",
     "text": [
      "total 116\n",
      "-rw-rw-r-- 1 unix unix 53595 Sep  3 19:39 assignment-01-introduction.ipynb\n",
      "-rw-r--r-- 1 unix unix     0 Sep  3 19:39 another-poem.txt\n",
      "-rw-r--r-- 1 unix unix     0 Sep  3 19:38 newpoem.txt\n",
      "-rw-r--r-- 1 unix unix  2588 Sep  3 19:37 Untitled1.ipynb\n",
      "-rw-r--r-- 1 unix unix    26 Sep  3 19:37 poem.txt\n",
      "-rw-r--r-- 1 unix unix     0 Sep  3 19:35 file2\n",
      "-rw-r--r-- 1 unix unix     0 Sep  3 19:32 a7-e1-f1\n",
      "-rw-r--r-- 1 unix unix     6 Sep  3 19:28 new.txt\n",
      "drwxr-xr-x 3 unix unix  4096 Sep  3 19:24 \u001b[0m\u001b[01;34mDocuments\u001b[0m\n",
      "-rw-r--r-- 1 unix unix   968 Sep  3 19:21 Untitled.ipynb\n",
      "drwxr-xr-x 4 unix unix  4096 Sep  3 18:59 \u001b[01;34mDownloads\u001b[0m\n",
      "drwxr-xr-x 2 unix unix  4096 Jul  2 18:37 \u001b[01;34mDesktop\u001b[0m\n",
      "drwxr-xr-x 2 unix unix  4096 Jul  2 18:37 \u001b[01;34mMusic\u001b[0m\n",
      "drwxr-xr-x 2 unix unix  4096 Jul  2 18:37 \u001b[01;34mPictures\u001b[0m\n",
      "drwxr-xr-x 2 unix unix  4096 Jul  2 18:37 \u001b[01;34mPublic\u001b[0m\n",
      "drwxr-xr-x 2 unix unix  4096 Jul  2 18:37 \u001b[01;34mTemplates\u001b[0m\n",
      "drwxr-xr-x 2 unix unix  4096 Jul  2 18:37 \u001b[01;34mVideos\u001b[0m\n",
      "-rw-r--r-- 1 unix unix  8980 Jul  1 16:04 examples.desktop\n"
     ]
    }
   ],
   "source": [
    "ls -lt"
   ]
  },
  {
   "cell_type": "code",
   "execution_count": 20,
   "metadata": {},
   "outputs": [
    {
     "name": "stdout",
     "output_type": "stream",
     "text": [
      "total 116\n",
      "-rw-r--r-- 1 unix unix  8980 Jul  1 16:04 examples.desktop\n",
      "drwxr-xr-x 2 unix unix  4096 Jul  2 18:37 \u001b[0m\u001b[01;34mVideos\u001b[0m\n",
      "drwxr-xr-x 2 unix unix  4096 Jul  2 18:37 \u001b[01;34mTemplates\u001b[0m\n",
      "drwxr-xr-x 2 unix unix  4096 Jul  2 18:37 \u001b[01;34mPublic\u001b[0m\n",
      "drwxr-xr-x 2 unix unix  4096 Jul  2 18:37 \u001b[01;34mPictures\u001b[0m\n",
      "drwxr-xr-x 2 unix unix  4096 Jul  2 18:37 \u001b[01;34mMusic\u001b[0m\n",
      "drwxr-xr-x 2 unix unix  4096 Jul  2 18:37 \u001b[01;34mDesktop\u001b[0m\n",
      "drwxr-xr-x 4 unix unix  4096 Sep  3 18:59 \u001b[01;34mDownloads\u001b[0m\n",
      "-rw-r--r-- 1 unix unix   968 Sep  3 19:21 Untitled.ipynb\n",
      "drwxr-xr-x 3 unix unix  4096 Sep  3 19:24 \u001b[01;34mDocuments\u001b[0m\n",
      "-rw-r--r-- 1 unix unix     6 Sep  3 19:28 new.txt\n",
      "-rw-r--r-- 1 unix unix     0 Sep  3 19:32 a7-e1-f1\n",
      "-rw-r--r-- 1 unix unix     0 Sep  3 19:35 file2\n",
      "-rw-r--r-- 1 unix unix    26 Sep  3 19:37 poem.txt\n",
      "-rw-r--r-- 1 unix unix  2588 Sep  3 19:37 Untitled1.ipynb\n",
      "-rw-r--r-- 1 unix unix     0 Sep  3 19:38 newpoem.txt\n",
      "-rw-r--r-- 1 unix unix     0 Sep  3 19:39 another-poem.txt\n",
      "-rw-rw-r-- 1 unix unix 53595 Sep  3 19:39 assignment-01-introduction.ipynb\n"
     ]
    }
   ],
   "source": [
    "ls -ltr"
   ]
  },
  {
   "cell_type": "markdown",
   "metadata": {
    "ein.tags": "worksheet-0",
    "slideshow": {
     "slide_type": "-"
    }
   },
   "source": [
    "# Filesystem\n",
    "## ``pwd``\n",
    "   -   What is your home directory?\n"
   ]
  },
  {
   "cell_type": "code",
   "execution_count": 21,
   "metadata": {},
   "outputs": [
    {
     "name": "stdout",
     "output_type": "stream",
     "text": [
      "/home/unix\n"
     ]
    }
   ],
   "source": [
    "pwd"
   ]
  },
  {
   "cell_type": "markdown",
   "metadata": {
    "ein.tags": "worksheet-0",
    "slideshow": {
     "slide_type": "-"
    }
   },
   "source": [
    "## `cd`\n",
    "   -   Move to your home directory."
   ]
  },
  {
   "cell_type": "code",
   "execution_count": 26,
   "metadata": {},
   "outputs": [],
   "source": [
    "cd"
   ]
  },
  {
   "cell_type": "code",
   "execution_count": 27,
   "metadata": {},
   "outputs": [
    {
     "name": "stdout",
     "output_type": "stream",
     "text": [
      "/home/unix\n"
     ]
    }
   ],
   "source": [
    "pwd"
   ]
  },
  {
   "cell_type": "markdown",
   "metadata": {
    "ein.tags": "worksheet-0",
    "slideshow": {
     "slide_type": "-"
    }
   },
   "source": [
    "## `mkdir`\n",
    "   -   Create a directory `myname` in your home.\n",
    "   -   Move to `myname`.\n",
    "   -   In `myname`, create the following directory structure. Check\n",
    "       with `tree`.\n",
    "       ``` {.example}\n",
    "      +-- junk\n",
    "      +-- recipes\n",
    "          +-- cookie\n",
    "          |   +-- choc.chip\n",
    "          +-- pie\n",
    "              +-- apple\n",
    "              +-- crust\n",
    "      ```"
   ]
  },
  {
   "cell_type": "code",
   "execution_count": 28,
   "metadata": {},
   "outputs": [],
   "source": [
    "mkdir myname"
   ]
  },
  {
   "cell_type": "code",
   "execution_count": 29,
   "metadata": {},
   "outputs": [],
   "source": [
    "cd myname"
   ]
  },
  {
   "cell_type": "code",
   "execution_count": 33,
   "metadata": {},
   "outputs": [],
   "source": [
    "mkdir junk recipes"
   ]
  },
  {
   "cell_type": "code",
   "execution_count": 34,
   "metadata": {},
   "outputs": [
    {
     "name": "stdout",
     "output_type": "stream",
     "text": [
      "\u001b[0m\u001b[01;34mjunk\u001b[0m  \u001b[01;34mrecipes\u001b[0m\n"
     ]
    }
   ],
   "source": [
    "ls"
   ]
  },
  {
   "cell_type": "code",
   "execution_count": 36,
   "metadata": {},
   "outputs": [
    {
     "name": "stdout",
     "output_type": "stream",
     "text": [
      "mkdir: cannot create directory ‘recipes/cookie’: File exists\n"
     ]
    },
    {
     "ename": "",
     "evalue": "1",
     "output_type": "error",
     "traceback": []
    }
   ],
   "source": [
    "mkdir recipes/cookie"
   ]
  },
  {
   "cell_type": "code",
   "execution_count": 40,
   "metadata": {},
   "outputs": [],
   "source": [
    "mkdir recipes/pie"
   ]
  },
  {
   "cell_type": "code",
   "execution_count": 48,
   "metadata": {},
   "outputs": [],
   "source": [
    "mkdir recipes/pie/apple\n",
    "mkdir recipes/pie/crust"
   ]
  },
  {
   "cell_type": "code",
   "execution_count": 46,
   "metadata": {},
   "outputs": [],
   "source": [
    "mkdir recipes/cookie/choc.chip"
   ]
  },
  {
   "cell_type": "code",
   "execution_count": 58,
   "metadata": {},
   "outputs": [
    {
     "name": "stdout",
     "output_type": "stream",
     "text": [
      "\u001b[01;34m.\u001b[00m\n",
      "├── \u001b[01;34mjunk\u001b[00m\n",
      "└── \u001b[01;34mrecipes\u001b[00m\n",
      "    ├── \u001b[01;34mcookie\u001b[00m\n",
      "    │   └── \u001b[01;34mchoc.chip\u001b[00m\n",
      "    └── \u001b[01;34mpie\u001b[00m\n",
      "        ├── \u001b[01;34mapple\u001b[00m\n",
      "        └── \u001b[01;34mcrust\u001b[00m\n",
      "\n",
      "7 directories, 0 files\n"
     ]
    }
   ],
   "source": [
    "tree"
   ]
  },
  {
   "cell_type": "markdown",
   "metadata": {
    "ein.tags": "worksheet-0",
    "slideshow": {
     "slide_type": "-"
    }
   },
   "source": [
    "-   Move to `crust`."
   ]
  },
  {
   "cell_type": "code",
   "execution_count": 59,
   "metadata": {},
   "outputs": [],
   "source": [
    "cd recipes/pie/crust"
   ]
  },
  {
   "cell_type": "markdown",
   "metadata": {
    "ein.tags": "worksheet-0",
    "slideshow": {
     "slide_type": "-"
    }
   },
   "source": [
    "-   Move to `choc.chip`."
   ]
  },
  {
   "cell_type": "code",
   "execution_count": 60,
   "metadata": {},
   "outputs": [],
   "source": [
    "cd ../../cookie/choc.chip"
   ]
  },
  {
   "cell_type": "markdown",
   "metadata": {
    "ein.tags": "worksheet-0",
    "slideshow": {
     "slide_type": "-"
    }
   },
   "source": [
    "-   Move to `myhome`."
   ]
  },
  {
   "cell_type": "code",
   "execution_count": 61,
   "metadata": {},
   "outputs": [],
   "source": [
    "cd ../../../"
   ]
  },
  {
   "cell_type": "markdown",
   "metadata": {
    "ein.tags": "worksheet-0",
    "slideshow": {
     "slide_type": "-"
    }
   },
   "source": [
    "## `rmdir`\n",
    "   -   Create a file `dish1` in `apple`."
   ]
  },
  {
   "cell_type": "code",
   "execution_count": 63,
   "metadata": {},
   "outputs": [],
   "source": [
    "cd recipes/pie/apple\n",
    "touch dish1"
   ]
  },
  {
   "cell_type": "markdown",
   "metadata": {
    "ein.tags": "worksheet-0",
    "slideshow": {
     "slide_type": "-"
    }
   },
   "source": [
    "-   Remove directory `apple`."
   ]
  },
  {
   "cell_type": "code",
   "execution_count": 64,
   "metadata": {},
   "outputs": [],
   "source": [
    "cd .."
   ]
  },
  {
   "cell_type": "code",
   "execution_count": 65,
   "metadata": {},
   "outputs": [
    {
     "name": "stdout",
     "output_type": "stream",
     "text": [
      "rmdir: failed to remove 'apple': Directory not empty\n"
     ]
    },
    {
     "ename": "",
     "evalue": "1",
     "output_type": "error",
     "traceback": []
    }
   ],
   "source": [
    "rmdir apple"
   ]
  },
  {
   "cell_type": "markdown",
   "metadata": {
    "ein.tags": "worksheet-0",
    "slideshow": {
     "slide_type": "-"
    }
   },
   "source": [
    "-   Remove the file `dish1` in `apple`."
   ]
  },
  {
   "cell_type": "code",
   "execution_count": 66,
   "metadata": {},
   "outputs": [],
   "source": [
    "cd apple\n",
    "rm dish1"
   ]
  },
  {
   "cell_type": "markdown",
   "metadata": {
    "ein.tags": "worksheet-0",
    "slideshow": {
     "slide_type": "-"
    }
   },
   "source": [
    "-   Now remove directory `apple`."
   ]
  },
  {
   "cell_type": "code",
   "execution_count": 67,
   "metadata": {},
   "outputs": [],
   "source": [
    "cd .."
   ]
  },
  {
   "cell_type": "code",
   "execution_count": 69,
   "metadata": {},
   "outputs": [],
   "source": [
    "rmdir apple"
   ]
  },
  {
   "cell_type": "markdown",
   "metadata": {
    "ein.tags": "worksheet-0",
    "slideshow": {
     "slide_type": "-"
    }
   },
   "source": [
    "## `cp`\n",
    "-   Create a file `dish1` in `crust`."
   ]
  },
  {
   "cell_type": "code",
   "execution_count": 70,
   "metadata": {},
   "outputs": [],
   "source": [
    "cd crust\n",
    "touch dish1"
   ]
  },
  {
   "cell_type": "markdown",
   "metadata": {
    "ein.tags": "worksheet-0",
    "slideshow": {
     "slide_type": "-"
    }
   },
   "source": [
    "-   Copy `dish1` to `dish2`."
   ]
  },
  {
   "cell_type": "code",
   "execution_count": 71,
   "metadata": {},
   "outputs": [],
   "source": [
    "cp dish1 dish2"
   ]
  },
  {
   "cell_type": "markdown",
   "metadata": {
    "ein.tags": "worksheet-0",
    "slideshow": {
     "slide_type": "-"
    }
   },
   "source": [
    "-   List the contents of `crust`."
   ]
  },
  {
   "cell_type": "code",
   "execution_count": 72,
   "metadata": {},
   "outputs": [
    {
     "name": "stdout",
     "output_type": "stream",
     "text": [
      "dish1  dish2\n"
     ]
    }
   ],
   "source": [
    "ls"
   ]
  },
  {
   "cell_type": "markdown",
   "metadata": {
    "ein.tags": "worksheet-0",
    "slideshow": {
     "slide_type": "-"
    }
   },
   "source": [
    "-   Copy the contents in `crust` to `apple`."
   ]
  },
  {
   "cell_type": "code",
   "execution_count": null,
   "metadata": {},
   "outputs": [],
   "source": [
    "cd .."
   ]
  },
  {
   "cell_type": "code",
   "execution_count": 74,
   "metadata": {},
   "outputs": [],
   "source": [
    "cp -r crust apple"
   ]
  },
  {
   "cell_type": "markdown",
   "metadata": {
    "ein.tags": "worksheet-0",
    "slideshow": {
     "slide_type": "-"
    }
   },
   "source": [
    "## `mv`\n",
    "-   Rename `dish1` to `cookie1`, and `dish2` to `cookie2`.\n",
    "-   Move both `cookie1` and `cookie2` to the directory `cookie`\n",
    "-   Move `recipe` directory to `junk` directory."
   ]
  },
  {
   "cell_type": "code",
   "execution_count": 77,
   "metadata": {},
   "outputs": [],
   "source": [
    "cd crust\n",
    "mv dish1 cookie1\n",
    "mv dish2 cookie2"
   ]
  },
  {
   "cell_type": "code",
   "execution_count": 78,
   "metadata": {},
   "outputs": [],
   "source": [
    "mv cookie1 ../../cookie/\n",
    "mv cookie2 ../../cookie/"
   ]
  },
  {
   "cell_type": "code",
   "execution_count": 79,
   "metadata": {},
   "outputs": [
    {
     "name": "stdout",
     "output_type": "stream",
     "text": [
      "\u001b[01;34m.\u001b[00m\n",
      "\n",
      "0 directories, 0 files\n"
     ]
    }
   ],
   "source": [
    "tree"
   ]
  },
  {
   "cell_type": "code",
   "execution_count": 80,
   "metadata": {},
   "outputs": [],
   "source": [
    "cd .."
   ]
  },
  {
   "cell_type": "code",
   "execution_count": 83,
   "metadata": {},
   "outputs": [],
   "source": [
    "cd .."
   ]
  },
  {
   "cell_type": "code",
   "execution_count": 84,
   "metadata": {},
   "outputs": [],
   "source": [
    "mv recipes junk/"
   ]
  },
  {
   "cell_type": "code",
   "execution_count": 85,
   "metadata": {},
   "outputs": [
    {
     "name": "stdout",
     "output_type": "stream",
     "text": [
      "\u001b[01;34m.\u001b[00m\n",
      "└── \u001b[01;34mjunk\u001b[00m\n",
      "    └── \u001b[01;34mrecipes\u001b[00m\n",
      "        ├── \u001b[01;34mcookie\u001b[00m\n",
      "        │   ├── \u001b[01;34mchoc.chip\u001b[00m\n",
      "        │   ├── cookie1\n",
      "        │   └── cookie2\n",
      "        └── \u001b[01;34mpie\u001b[00m\n",
      "            ├── \u001b[01;34mapple\u001b[00m\n",
      "            │   ├── dish1\n",
      "            │   └── dish2\n",
      "            └── \u001b[01;34mcrust\u001b[00m\n",
      "\n",
      "7 directories, 4 files\n"
     ]
    }
   ],
   "source": [
    "tree"
   ]
  },
  {
   "cell_type": "markdown",
   "metadata": {
    "ein.tags": "worksheet-0",
    "slideshow": {
     "slide_type": "-"
    }
   },
   "source": [
    "## `rm`\n",
    "-   Remove `dish1` in `apple`.\n",
    "-   Remove `cookie1` and `cookie2` in `cookie`.\n",
    "-   Remove `recipe` direcory in `junk`."
   ]
  },
  {
   "cell_type": "code",
   "execution_count": 86,
   "metadata": {},
   "outputs": [],
   "source": [
    "cd junk/recipes/pie/apple"
   ]
  },
  {
   "cell_type": "code",
   "execution_count": 87,
   "metadata": {},
   "outputs": [],
   "source": [
    "rm dish1"
   ]
  },
  {
   "cell_type": "code",
   "execution_count": 90,
   "metadata": {},
   "outputs": [],
   "source": [
    "cd ../../cookie/"
   ]
  },
  {
   "cell_type": "code",
   "execution_count": 91,
   "metadata": {},
   "outputs": [],
   "source": [
    "rm cookie1 cookie2"
   ]
  }
 ],
 "metadata": {
  "kernelspec": {
   "display_name": "Bash",
   "language": "bash",
   "name": "bash"
  },
  "language_info": {
   "codemirror_mode": "shell",
   "file_extension": ".sh",
   "mimetype": "text/x-sh",
   "name": "bash"
  },
  "name": "assignment-01-introduction.ipynb"
 },
 "nbformat": 4,
 "nbformat_minor": 2
}
